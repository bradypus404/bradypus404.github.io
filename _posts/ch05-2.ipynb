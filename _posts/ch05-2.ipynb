{
 "cells": [
  {
   "cell_type": "markdown",
   "metadata": {},
   "source": [
    "---\n",
    "layout: post\n",
    "title: \"[ML Study]ch05-2 교차 검증과 그리드 서치\"\n",
    "subtitle: \n",
    "date: 2023-07-31 09:00:00 +0900\n",
    "author: Jinha_k\n",
    "categories: [Machine Learning]\n",
    "tags: []\n",
    "---"
   ]
  },
  {
   "cell_type": "markdown",
   "metadata": {},
   "source": [
    "## 검증 세트\n",
    "테스트 세트를 사용하지 않고 과대적합인지 과소적합인지 판단하기 위해 훈련 세트를 나누어 검증하는 것을 말한다.\n",
    "\n",
    "> 검증 세트를 몇 %만큼 나누어야 적당한가? <br> -> 보통 20~30%를 나누지만 훈련 세트가 많으면 많을 수록 더 적게 나누어도 문제가 발생하지 않는다."
   ]
  },
  {
   "cell_type": "markdown",
   "metadata": {},
   "source": [
    "### 교차 검증\n",
    "검증 세트를 만들게 된다면 훈련에 사용되는 데이터가 줄어들게 된다. 하지만 대부분 데이터를 많이 훈련하면 좋은 모델이 만들어진다. 그러므로 교차검증을 이용하여 이러한 문제를 해결한다.\n",
    "\n",
    "- 교차 검증: 검증 세트를 떼어 내어 평가하는 과정을 여러 번 반복한다.\n",
    "\n",
    "![그림_1](picture.png)"
   ]
  },
  {
   "cell_type": "markdown",
   "metadata": {},
   "source": [
    "> k-폴드 교차 검증(k-fold cross validation)은 k부분으로 나눠서 교차 검증을 수행하는 것을 말합니다."
   ]
  },
  {
   "cell_type": "markdown",
   "metadata": {},
   "source": [
    "## 하이퍼파라미터 튜닝\n",
    "머신러닝 모델이 학습하는 파라미터를 **모델 파라미터**라고 부른다. 모델이 학습할 수 없어서 사용자가 지정해야만 하는 파라미터를 **하이퍼파라미터**라고 한다.\n",
    "\n",
    "### 하이퍼파라미터 튜닝 방식\n",
    "- 라이브러리가 제공하는 기본값을 그대로 사용해 모델을 훈련한다.\n",
    "- 검증 세트의 정수나 교차 검증을 통해 매개변수를 조금씩 바꿔서 진행한다."
   ]
  },
  {
   "cell_type": "markdown",
   "metadata": {},
   "source": []
  }
 ],
 "metadata": {
  "kernelspec": {
   "display_name": "Python 3",
   "language": "python",
   "name": "python3"
  },
  "language_info": {
   "codemirror_mode": {
    "name": "ipython",
    "version": 3
   },
   "file_extension": ".py",
   "mimetype": "text/x-python",
   "name": "python",
   "nbconvert_exporter": "python",
   "pygments_lexer": "ipython3",
   "version": "3.11.1"
  },
  "orig_nbformat": 4
 },
 "nbformat": 4,
 "nbformat_minor": 2
}
